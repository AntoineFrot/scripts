{
 "cells": [
  {
   "cell_type": "code",
   "execution_count": 8,
   "metadata": {},
   "outputs": [],
   "source": [
    "import os\n",
    "import sys\n",
    "import numpy as np\n",
    "import cv2\n",
    "from matplotlib.pyplot import imshow"
   ]
  },
  {
   "cell_type": "code",
   "execution_count": 9,
   "metadata": {},
   "outputs": [],
   "source": [
    "def test_encode_decode_cv2():\n",
    "    fmts = [cv2.CV_8U, cv2.CV_8S, cv2.CV_16U, cv2.CV_16S, cv2.CV_32S, cv2.CV_32F, cv2.CV_64F]\n",
    "\n",
    "    for w in range(100, 800, 100):\n",
    "        for h in range(100, 800, 100):\n",
    "            # for fmt in fmts:\n",
    "            for channels in ([], 1, 2, 3, 4):\n",
    "                if channels == []:\n",
    "                    original = np.uint8(np.random.randint(0, 255, size=(h, w)))\n",
    "                else:\n",
    "                    original = np.uint8(np.random.randint(0, 255, size=(h, w, channels)))\n",
    "                try:\n",
    "                    cv2.imshow(\"\", original)\n",
    "                    cv2.waitKey(10)\n",
    "                except:\n",
    "                    # print('Error in w {} h {} f {} channels {}'.format(w, h, fmt, channels))\n",
    "                    print('Error in w {} h {} channels {}'.format(w, h, channels))\n",
    "                    \n",
    "# test_encode_decode_cv2()"
   ]
  },
  {
   "cell_type": "code",
   "execution_count": 10,
   "metadata": {},
   "outputs": [
    {
     "name": "stdout",
     "output_type": "stream",
     "text": [
      "=== original ===\n",
      "[ 0  1  2  3  4  5  6  7  8  9 10 11 12 13 14 15 16 17 18 19 20 21 22 23\n",
      " 24 25 26 27 28 29 30 31 32 33 34 35 36 37 38 39 40 41 42 43 44 45 46 47\n",
      " 48 49 50 51 52 53 54 55 56 57 58 59]\n"
     ]
    }
   ],
   "source": [
    "# === original ===\n",
    "\n",
    "original = np.uint8(np.arange(0, 60, 1))\n",
    "print(original)\n",
    "\n",
    "# imshow(original, cmap='gray')"
   ]
  },
  {
   "cell_type": "code",
   "execution_count": 11,
   "metadata": {},
   "outputs": [
    {
     "name": "stdout",
     "output_type": "stream",
     "text": [
      "=== reshaped (h5 w3 RGBA) ===\n",
      "[[[ 0  1  2  3]\n",
      "  [ 4  5  6  7]\n",
      "  [ 8  9 10 11]]\n",
      "\n",
      " [[12 13 14 15]\n",
      "  [16 17 18 19]\n",
      "  [20 21 22 23]]\n",
      "\n",
      " [[24 25 26 27]\n",
      "  [28 29 30 31]\n",
      "  [32 33 34 35]]\n",
      "\n",
      " [[36 37 38 39]\n",
      "  [40 41 42 43]\n",
      "  [44 45 46 47]]\n",
      "\n",
      " [[48 49 50 51]\n",
      "  [52 53 54 55]\n",
      "  [56 57 58 59]]]\n"
     ]
    },
    {
     "data": {
      "text/plain": [
       "<matplotlib.image.AxesImage at 0x7fd8f31ef0a0>"
      ]
     },
     "execution_count": 11,
     "metadata": {},
     "output_type": "execute_result"
    },
    {
     "data": {
      "image/png": "[encoded data removed]",
      "text/plain": [
       "<Figure size 432x288 with 1 Axes>"
      ]
     },
     "metadata": {
      "needs_background": "light"
     },
     "output_type": "display_data"
    }
   ],
   "source": [
    "# === reshaped (h5 w3 RGBA) ===\n",
    "\n",
    "reshaped = original.reshape((5, 3, 4))\n",
    "print(reshaped)\n",
    "\n",
    "imshow(reshaped)"
   ]
  },
  {
   "cell_type": "code",
   "execution_count": 12,
   "metadata": {},
   "outputs": [
    {
     "name": "stdout",
     "output_type": "stream",
     "text": [
      "=== removed Alpha: h5 r3 RGB ===\n",
      "[[[ 0  1  2]\n",
      "  [ 4  5  6]\n",
      "  [ 8  9 10]]\n",
      "\n",
      " [[12 13 14]\n",
      "  [16 17 18]\n",
      "  [20 21 22]]\n",
      "\n",
      " [[24 25 26]\n",
      "  [28 29 30]\n",
      "  [32 33 34]]\n",
      "\n",
      " [[36 37 38]\n",
      "  [40 41 42]\n",
      "  [44 45 46]]\n",
      "\n",
      " [[48 49 50]\n",
      "  [52 53 54]\n",
      "  [56 57 58]]]\n"
     ]
    },
    {
     "data": {
      "text/plain": [
       "<matplotlib.image.AxesImage at 0x7fd8f31b6b50>"
      ]
     },
     "execution_count": 12,
     "metadata": {},
     "output_type": "execute_result"
    },
    {
     "data": {
      "image/png": "[encoded data removed]",
      "text/plain": [
       "<Figure size 432x288 with 1 Axes>"
      ]
     },
     "metadata": {
      "needs_background": "light"
     },
     "output_type": "display_data"
    }
   ],
   "source": [
    "# === removed Alpha: h5 r3 RGB ===\n",
    "\n",
    "rgb = reshaped[:, :, :3]\n",
    "print(rgb)\n",
    "\n",
    "imshow(rgb)"
   ]
  },
  {
   "cell_type": "code",
   "execution_count": 13,
   "metadata": {},
   "outputs": [
    {
     "name": "stdout",
     "output_type": "stream",
     "text": [
      "=== Delete top lines ===\n",
      "[[[48 49 50]\n",
      "  [52 53 54]\n",
      "  [56 57 58]]]\n"
     ]
    },
    {
     "data": {
      "text/plain": [
       "<matplotlib.image.AxesImage at 0x7fd8f3183490>"
      ]
     },
     "execution_count": 13,
     "metadata": {},
     "output_type": "execute_result"
    },
    {
     "data": {
      "image/png": "[encoded data removed]",
      "text/plain": [
       "<Figure size 432x288 with 1 Axes>"
      ]
     },
     "metadata": {
      "needs_background": "light"
     },
     "output_type": "display_data"
    }
   ],
   "source": [
    "# === Delete top lines ===\n",
    "\n",
    "wide = rgb[4:, :, :]\n",
    "print(wide)\n",
    "\n",
    "imshow(wide)"
   ]
  },
  {
   "cell_type": "code",
   "execution_count": null,
   "metadata": {},
   "outputs": [],
   "source": []
  }
 ],
 "metadata": {
  "kernelspec": {
   "display_name": "Python 3",
   "language": "python",
   "name": "python3"
  },
  "language_info": {
   "codemirror_mode": {
    "name": "ipython",
    "version": 3
   },
   "file_extension": ".py",
   "mimetype": "text/x-python",
   "name": "python",
   "nbconvert_exporter": "python",
   "pygments_lexer": "ipython3",
   "version": "3.8.2"
  }
 },
 "nbformat": 4,
 "nbformat_minor": 4
}
